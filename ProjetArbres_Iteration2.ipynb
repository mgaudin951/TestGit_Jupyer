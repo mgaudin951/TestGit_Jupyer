{
 "cells": [
  {
   "cell_type": "code",
   "execution_count": 41,
   "metadata": {},
   "outputs": [
    {
     "name": "stdout",
     "output_type": "stream",
     "text": [
      "['Abies', 'Acer', 'Aesculus', 'Ailanthus', 'Albizia', 'Alnus', 'Amélanchier', 'Araucaria', 'Betula', 'Broussonetia', 'Buxus', 'Calocedrus', 'Carpinus', 'Castanea', 'Catalpa', 'Cedrela', 'Cedrus', 'Celtis', 'Cephalotaxus', 'Cercidiphyllum', 'Cercis', 'Chamaecyparis', 'Chimonanthus', 'Chionanthus', 'Chitalpa', 'Cladastris', 'Clerodendron', 'Cornus', 'Corylus', 'Cotinus', 'Crataegus', 'Cryptomeria', 'Cupressocyparis', 'Cupressus', 'Cydonia', 'Davidia', 'Diospyros', 'Eleagnus', 'Eriobotrya ', 'Eucalyptus', 'Fagus', 'Ficus', 'Fontanesia', 'Fraxinus', 'Ginkgo', 'Gleditsia', 'Gymnocladus', 'Halesia', 'Hovenia', 'Ilex', 'Juglans', 'Juniperus', 'Koelreuteria', 'Laburnum', 'Lagerstroemia', 'Larix', 'Libocedrus', 'Ligustrum', 'Liquidambar', 'Liriodendron', 'Lonicera', 'Maclura', 'Magnolia', 'Malus', 'Mespilus', 'Metasequoia', 'Morus', 'Nyssa', 'Olea', 'Ostrya', 'Parrotia', 'Paulownia', 'Phellodendron', 'Phillyrea', 'Photinia', 'Picea', 'Pinus', 'Pistacia', 'Platanus', 'Poncinos', 'Populus', 'Prunus', 'Ptelea', 'Pterocarya', 'Pteroceltis', 'Pterostyrax', 'Punica', 'Pyrus', 'Quercus', 'Rhamnus', 'Rhus', 'Robinia', 'Salix', 'Sambucus', 'Sciadopitys', 'Sequoia', 'Sequoiadendron', 'Sophora', 'Sorbopyrus', 'Sorbus', 'Staphylea', 'Sterculia', 'Styrax', 'Syringa', 'Taxodium', 'Taxus', 'Tetradium', 'Thuja', 'Tilia', 'Trachycarpus', 'Ulmus', 'Zelkova']\n",
      "112\n"
     ]
    }
   ],
   "source": [
    "import csv\n",
    "\n",
    "with open(\"/home/campus-3/Desktop/Projet_arbre/Data/arbres.csv\") as csvfile:\n",
    "    line_reader = csv.reader(csvfile)\n",
    "    list_genre = []\n",
    "    for row in line_reader:\n",
    "        list_genre.append(row[13])\n",
    "    list_genre.pop(0)\n",
    "    list_genre.sort()\n",
    "    GenreActuel = \"\"\n",
    "    list_genre2 = []\n",
    "    for row in list_genre:\n",
    "        if row != \"\" and row != GenreActuel:\n",
    "            list_genre2.append(row)\n",
    "            GenreActuel = row\n",
    "    print(list_genre2)\n",
    "    print(len(list_genre2))"
   ]
  },
  {
   "cell_type": "code",
   "execution_count": 42,
   "metadata": {},
   "outputs": [
    {
     "name": "stdout",
     "output_type": "stream",
     "text": [
      "[('Abies', 'concolor'), ('Abies', 'koreana'), ('Abies', 'nordmanniana'), ('Abies', 'pinsapo'), ('Acer', 'buergerianum'), ('Acer', 'campestre'), ('Acer', 'capillipes'), ('Acer', 'cappadocicum'), ('Acer', 'carpinifolia'), ('Acer', 'davidii'), ('Acer', 'freemanii'), ('Acer', 'ginnala'), ('Acer', 'griseum'), ('Acer', 'grosseri'), ('Acer', 'heldreichii'), ('Acer', 'hippocastanum'), ('Acer', 'japonicum'), ('Acer', 'monspessulanum'), ('Acer', 'negundo'), ('Acer', 'nikoense'), ('Acer', 'opalus'), ('Acer', 'palmatum'), ('Acer', 'platanoides'), ('Acer', 'pseudoplatanus'), ('Acer', 'rubrum'), ('Acer', 'saccharinum'), ('Acer', 'tartarica'), ('Acer', 'triflorum'), ('Acer', 'utilis'), ('Acer', 'zoeschense'), ('Aesculus', 'carnea'), ('Aesculus', 'chandelle seche'), ('Aesculus', 'hippocastanum'), ('Aesculus', 'parviflora'), ('Aesculus', 'pavia'), ('Ailanthus', 'altissima'), ('Alnus', 'cordata'), ('Alnus', 'glutinosa'), ('Alnus', 'incana'), ('Alnus', 'spaethii'), ('Amélanchier', 'alnifolia'), ('Amélanchier', 'canadensis'), ('Amélanchier', 'grandiflora'), ('Amélanchier', 'laevis'), ('Amélanchier', 'lamarckii'), ('Amélanchier', 'ovalis'), ('Araucaria', 'araucana'), ('Araucaria', 'exelsa'), ('Betula', 'alba'), ('Betula', 'nigra'), ('Betula', 'papyrifera'), ('Betula', 'pendula'), ('Betula', 'utilis'), ('Betula', 'verrucosa'), ('Broussonetia', 'papyrifera'), ('Buxus', 'sempervirens'), ('Calocedrus', 'decurrens'), ('Carpinus', 'betulus'), ('Carpinus', 'orientalis'), ('Castanea', 'sativa'), ('Catalpa', 'bignonoides'), ('Cedrela', 'sinensis'), ('Cedrus', 'atlantica'), ('Cedrus', 'deodara'), ('Cedrus', 'libani'), ('Cedrus', 'sinensis'), ('Celtis', 'australis'), ('Celtis', 'julianae'), ('Celtis', 'occidentalis'), ('Celtis', 'sinensis'), ('Cephalotaxus', 'harringtonia'), ('Cercidiphyllum', 'japonicum'), ('Cercidiphyllum', 'magnificum'), ('Cercis', 'canadensis'), ('Cercis', 'chinensis'), ('Cercis', 'siliquastrum'), ('Cercis', 'sinensis'), ('Chamaecyparis', 'formosensis'), ('Chamaecyparis', 'lawsoniana'), ('Chamaecyparis', 'nootkatensis'), ('Chamaecyparis', 'pisifera'), ('Chimonanthus', 'praecox'), ('Chionanthus', 'retusus'), ('Chionanthus', 'virginicus'), ('Chitalpa', 'tashkentensis'), ('Cladastris', 'lutea'), ('Clerodendron', 'tricotonum'), ('Cornus', 'controversa'), ('Cornus', 'florida'), ('Cornus', 'mas'), ('Corylus', 'avellana'), ('Corylus', 'colurna'), ('Cotinus', 'coggygria'), ('Crataegus', 'crus-galli'), ('Crataegus', 'laevigata'), ('Crataegus', 'lavallei'), ('Crataegus', 'monogyna'), ('Crataegus', 'oxyacantha'), ('Crataegus', 'splendens'), ('Cryptomeria', 'japonica'), ('Cupressocyparis', 'leylandii'), ('Cupressus', 'arizonica'), ('Cupressus', 'nootkatensis'), ('Cupressus', 'sempervirens'), ('Cydonia', 'oblonga'), ('Cydonia', 'vulgaris'), ('Davidia', 'involucrata'), ('Diospyros', 'kaki'), ('Diospyros', 'lotus'), ('Diospyros', 'virginiana'), ('Eleagnus', 'angustifolia'), ('Eriobotrya ', 'japonica'), ('Eucalyptus', 'gunii'), ('Fagus', 'sylvatica'), ('Ficus', 'carica'), ('Fontanesia', 'phillyreoides'), ('Fraxinus', 'americana'), ('Fraxinus', 'angustifolia'), ('Fraxinus', 'excelsior'), ('Fraxinus', 'mandshurica'), ('Fraxinus', 'mariesii'), ('Fraxinus', 'ornus'), ('Fraxinus', 'oxycarpa'), ('Fraxinus', 'pennsylvanica'), ('Fraxinus', 'quadrangulata'), ('Fraxinus', 'sieboldiana'), ('Fraxinus', 'velutina'), ('Ginkgo', 'biloba'), ('Gleditsia', 'triacanthos'), ('Gymnocladus', 'dioicus'), ('Halesia', 'carolina'), ('Halesia', 'monticola'), ('Hovenia', 'dulcis'), ('Ilex', 'aquifolium'), ('Juglans', 'nigra'), ('Juglans', 'regia'), ('Juniperus', 'drupacea'), ('Juniperus', 'virginiana'), ('Koelreuteria', 'paniculata'), ('Laburnum', 'anagyroides'), ('Laburnum', 'watereri'), ('Lagerstroemia', 'indica'), ('Larix', 'decidua'), ('Libocedrus', 'decurrens'), ('Ligustrum', 'ibota'), ('Ligustrum', 'japonicum'), ('Ligustrum', 'sinense'), ('Liquidambar', 'orientalis'), ('Liquidambar', 'styraciflua'), ('Liquidambar', 'tulipifera'), ('Liriodendron', 'tulipifera'), ('Lonicera', 'fragmantissima'), ('Maclura', 'pomifera'), ('Magnolia', 'grandiflora'), ('Magnolia', 'heptapeta'), ('Magnolia', 'hybride'), ('Magnolia', 'kobus'), ('Magnolia', 'liliflora'), ('Magnolia', 'serrulata'), ('Magnolia', 'soulangeana'), ('Magnolia', 'stellata'), ('Malus', 'baccata'), ('Malus', 'domestica'), ('Malus', 'floribunda'), ('Malus', 'hupehensis'), ('Malus', 'perpetu'), ('Malus', 'pumila'), ('Malus', 'royalty'), ('Malus', 'sieboldii'), ('Malus', 'tschonoskii'), ('Mespilus', 'germanica'), ('Metasequoia', 'glyptostroboides'), ('Morus', 'alba'), ('Morus', 'bombycis'), ('Morus', 'nigra'), ('Nyssa', 'sylvatica'), ('Olea', 'europaea'), ('Ostrya', 'carpinifolia'), ('Parrotia', 'persica'), ('Paulownia', 'fortunei'), ('Paulownia', 'tomentosa'), ('Phellodendron', 'amurense'), ('Phillyrea', 'latifolia'), ('Photinia', 'villosa'), ('Picea', 'abies'), ('Picea', 'engelmanii'), ('Picea', 'exelsa'), ('Picea', 'omorika'), ('Picea', 'orientalis'), ('Picea', 'pungens'), ('Pinus', 'mugo'), ('Pinus', 'nigra'), ('Pinus', 'pinea'), ('Pinus', 'strobus'), ('Pinus', 'sylvestris'), ('Pinus', 'wallichiana'), ('Pistacia', 'chinensis'), ('Platanus', 'acerifolia'), ('Platanus', 'orientalis'), ('Platanus', 'platanor'), ('Populus', 'alba'), ('Populus', 'italica'), ('Populus', 'nigra'), ('Populus', 'robusta'), ('Populus', 'simonii'), ('Populus', 'tremula'), ('Prunus', 'accolade'), ('Prunus', 'amygdalus'), ('Prunus', 'armeniaca'), ('Prunus', 'avium'), ('Prunus', 'campanulata'), ('Prunus', 'cerasifera'), ('Prunus', 'cerasus'), ('Prunus', 'domestica'), ('Prunus', 'dulcis'), ('Prunus', 'incisa'), ('Prunus', 'laurocerasus'), ('Prunus', 'lusitanica'), ('Prunus', 'mahaleb'), ('Prunus', 'padus'), ('Prunus', 'persica'), ('Prunus', 'schmittii'), ('Prunus', 'serotina'), ('Prunus', 'serrulata'), ('Prunus', 'spinosa'), ('Prunus', 'subhirtella'), ('Prunus', 'tomentosa'), ('Prunus', 'yedoensis'), ('Ptelea', 'trifoliata'), ('Pterocarya', 'fraxinifolia'), ('Pterocarya', 'stenoptera'), ('Pteroceltis', 'tatarinowii'), ('Pterostyrax', 'hispida'), ('Punica', 'granatum'), ('Pyrus', 'amygdaliformis'), ('Pyrus', 'calleryana'), ('Pyrus', 'communis'), ('Pyrus', 'elaeagnifolia'), ('Pyrus', 'nivalis'), ('Quercus', 'acutissima'), ('Quercus', 'castaneifolia'), ('Quercus', 'cerris'), ('Quercus', 'coccinea'), ('Quercus', 'falcata'), ('Quercus', 'frainetto'), ('Quercus', 'fraxinifolia'), ('Quercus', 'heterophylla'), ('Quercus', 'hispanica'), ('Quercus', 'ilex'), ('Quercus', 'macrocarpa'), ('Quercus', 'myrsinifolia'), ('Quercus', 'palustris'), ('Quercus', 'petraea'), ('Quercus', 'phellos'), ('Quercus', 'robur'), ('Quercus', 'rubra'), ('Quercus', 'suber'), ('Quercus', 'variabilis'), ('Rhamnus', 'alaternus'), ('Rhus', 'thyphina'), ('Rhus', 'typhina'), ('Robinia', 'platanoides'), ('Robinia', 'pseudoacacia'), ('Salix', 'alba'), ('Salix', 'babylonica'), ('Salix', 'caprea'), ('Salix', 'matsudana'), ('Salix', 'purpurea'), ('Salix', 'rosmarinifolia'), ('Salix', 'sepulcralis'), ('Salix', 'triandra'), ('Salix', 'viminalis'), ('Sambucus', 'nigra'), ('Sciadopitys', 'verticillata'), ('Sequoia', 'sempervirens'), ('Sequoiadendron', 'giganteum'), ('Sequoiadendron', 'sempervirens'), ('Sophora', 'japonica'), ('Sorbopyrus', 'auricularis'), ('Sorbus', 'aria'), ('Sorbus', 'aucuparia'), ('Sorbus', 'chamaemespilus'), ('Sorbus', 'cuspidata'), ('Sorbus', 'domestica'), ('Sorbus', 'latifolia'), ('Sorbus', 'torminalis'), ('Staphylea', 'bumalda'), ('Styrax', 'japonica'), ('Syringa', 'amurensis'), ('Syringa', 'persica'), ('Syringa', 'vulgaris'), ('Taxodium', 'distychum'), ('Taxus', 'baccata'), ('Tetradium', 'daniellii'), ('Thuja', 'occidentalis'), ('Thuja', 'plicata'), ('Tilia', 'americana'), ('Tilia', 'cordata'), ('Tilia', 'euchlora'), ('Tilia', 'europaea'), ('Tilia', 'henryana'), ('Tilia', 'mongolica'), ('Tilia', 'platyphyllos'), ('Tilia', 'tomentosa'), ('Trachycarpus', 'fortunei'), ('Ulmus', 'campestre'), ('Ulmus', 'carpinifolia'), ('Ulmus', 'glabra'), ('Ulmus', 'minor'), ('Ulmus', 'parvifolia'), ('Ulmus', 'resista'), ('Zelkova', 'crenata'), ('Zelkova', 'serrata')]\n",
      "313\n"
     ]
    }
   ],
   "source": [
    "import csv\n",
    "\n",
    "with open(\"/home/campus-3/Desktop/Projet_arbre/Data/arbres.csv\") as csvfile:\n",
    "    line_reader = csv.reader(csvfile)\n",
    "    list_tot = []\n",
    "    for row in line_reader:\n",
    "        list_tot.append(row)\n",
    "    list_tot.pop(0)\n",
    "    espece = ()\n",
    "    list_espece = []\n",
    "    for row in list_tot:\n",
    "        espece = (row[13], row[14])\n",
    "        if row[13] != \"\" and row[14] != \"\":\n",
    "            list_espece.append(espece)\n",
    "    list_espece.sort()\n",
    "    counter = 0\n",
    "    EspeceActuel = (\"0\", \"0\")\n",
    "    liste_espece2 = []\n",
    "    for row in list_espece:\n",
    "        if row != EspeceActuel:\n",
    "            EspeceActuel = row\n",
    "            liste_espece2.append(row)\n",
    "            counter += 1\n",
    "    print(liste_espece2)\n",
    "    print(counter)"
   ]
  },
  {
   "cell_type": "code",
   "execution_count": 43,
   "metadata": {},
   "outputs": [
    {
     "name": "stdout",
     "output_type": "stream",
     "text": [
      "[('Abies', 28), ('Acer', 5230), ('Aesculus', 460), ('Ailanthus', 79), ('Albizia', 64), ('Alnus', 813), ('Amélanchier', 137), ('Araucaria', 2), ('Betula', 1211), ('Broussonetia', 23), ('Buxus', 15), ('Calocedrus', 5), ('Carpinus', 1332), ('Castanea', 1), ('Catalpa', 151), ('Cedrela', 45), ('Cedrus', 404), ('Celtis', 213), ('Cephalotaxus', 3), ('Cercidiphyllum', 7), ('Cercis', 327), ('Chamaecyparis', 366), ('Chimonanthus', 3), ('Chionanthus', 49), ('Chitalpa', 7), ('Cladastris', 44), ('Clerodendron', 5), ('Cornus', 23), ('Corylus', 194), ('Cotinus', 11), ('Crataegus', 109), ('Cryptomeria', 2), ('Cupressocyparis', 98), ('Cupressus', 200), ('Cydonia', 15), ('Davidia', 7), ('Diospyros', 20), ('Eleagnus', 16), ('Eriobotrya ', 3), ('Eucalyptus', 1), ('Fagus', 269), ('Ficus', 22), ('Fontanesia', 4), ('Fraxinus', 1441), ('Ginkgo', 111), ('Gleditsia', 354), ('Gymnocladus', 8), ('Halesia', 10), ('Hovenia', 2), ('Ilex', 29), ('Juglans', 68), ('Juniperus', 4), ('Koelreuteria', 266), ('Laburnum', 12), ('Lagerstroemia', 52), ('Larix', 5), ('Libocedrus', 47), ('Ligustrum', 8), ('Liquidambar', 799), ('Liriodendron', 509), ('Lonicera', 6), ('Maclura', 6), ('Magnolia', 420), ('Malus', 300), ('Mespilus', 9), ('Metasequoia', 83), ('Morus', 97), ('Nyssa', 1), ('Olea', 5), ('Ostrya', 44), ('Parrotia', 54), ('Paulownia', 103), ('Phellodendron', 13), ('Phillyrea', 3), ('Photinia', 10), ('Picea', 237), ('Pinus', 2073), ('Pistacia', 7), ('Platanus', 4616), ('Poncinos', 1), ('Populus', 933), ('Prunus', 1051), ('Ptelea', 4), ('Pterocarya', 53), ('Pteroceltis', 13), ('Pterostyrax', 6), ('Punica', 4), ('Pyrus', 537), ('Quercus', 698), ('Rhamnus', 1), ('Rhus', 7), ('Robinia', 276), ('Salix', 143), ('Sambucus', 35), ('Sciadopitys', 1), ('Sequoia', 1), ('Sequoiadendron', 14), ('Sophora', 429), ('Sorbopyrus', 1), ('Sorbus', 91), ('Staphylea', 1), ('Sterculia', 1), ('Styrax', 3), ('Syringa', 41), ('Taxodium', 10), ('Taxus', 204), ('Tetradium', 85), ('Thuja', 47), ('Tilia', 1747), ('Trachycarpus', 22), ('Ulmus', 215), ('Zelkova', 245)]\n"
     ]
    }
   ],
   "source": [
    "import csv\n",
    "from collections import Counter\n",
    "\n",
    "with open(\"/home/campus-3/Desktop/Projet_arbre/Data/arbres.csv\") as csvfile:\n",
    "    line_reader = csv.reader(csvfile)\n",
    "    list_genre3 = []\n",
    "    for row in list_genre:\n",
    "        if row != \"\":\n",
    "            list_genre3.append(row)\n",
    "    d_genres = Counter(list_genre3)\n",
    "    l_genres = [(k, v) for k, v in d_genres.items()]\n",
    "    print(l_genres)"
   ]
  },
  {
   "cell_type": "code",
   "execution_count": 44,
   "metadata": {},
   "outputs": [
    {
     "name": "stdout",
     "output_type": "stream",
     "text": [
      "('Acer', 5230) ('Platanus', 4616)\n"
     ]
    }
   ],
   "source": [
    "from operator import itemgetter, attrgetter\n",
    "l_genres = sorted(l_genres, key=itemgetter(1), reverse = True)\n",
    "print(l_genres[0], l_genres[1])"
   ]
  },
  {
   "cell_type": "code",
   "execution_count": 45,
   "metadata": {},
   "outputs": [
    {
     "name": "stdout",
     "output_type": "stream",
     "text": [
      "Acer : 17.008130081300813 Platanus : 15.01138211382114\n",
      "Les objectifs de la Metro sont respectés !\n"
     ]
    }
   ],
   "source": [
    "Acer = int(l_genres[0][1])\n",
    "Platanus = int(l_genres[1][1])\n",
    "i = 0\n",
    "somme = 0\n",
    "for row in l_genres:\n",
    "    somme = somme + int(l_genres[i][1])\n",
    "    i = i + 1\n",
    "PropAcer = (Acer/somme)*100\n",
    "PropPlatanus = (Platanus/somme)*100\n",
    "print(\"Acer :\", PropAcer, \"Platanus :\", PropPlatanus)\n",
    "if PropAcer < 20 and PropPlatanus < 20:\n",
    "    print(\"Les objectifs de la Metro sont respectés !\")\n",
    "else:\n",
    "    print(\"Les objectifs de la Metro ne sont pas respectés !\")"
   ]
  },
  {
   "cell_type": "code",
   "execution_count": 52,
   "metadata": {},
   "outputs": [
    {
     "name": "stdout",
     "output_type": "stream",
     "text": [
      "[('Castanea', 1), ('Eucalyptus', 1), ('Nyssa', 1), ('Poncinos', 1), ('Rhamnus', 1), ('Sciadopitys', 1), ('Sequoia', 1), ('Sorbopyrus', 1), ('Staphylea', 1), ('Sterculia', 1)]\n"
     ]
    }
   ],
   "source": [
    "unique = []\n",
    "j = 0\n",
    "for row in l_genres:\n",
    "    if l_genres[j][1] == 1:\n",
    "        unique.append(row)\n",
    "    j = j+1\n",
    "print(unique)"
   ]
  },
  {
   "cell_type": "code",
   "execution_count": 53,
   "metadata": {},
   "outputs": [
    {
     "name": "stdout",
     "output_type": "stream",
     "text": [
      "[(('Abies', 'concolor'), 5), (('Abies', 'koreana'), 1), (('Abies', 'nordmanniana'), 20), (('Abies', 'pinsapo'), 2), (('Acer', 'buergerianum'), 20), (('Acer', 'campestre'), 850), (('Acer', 'capillipes'), 13), (('Acer', 'cappadocicum'), 201), (('Acer', 'carpinifolia'), 2), (('Acer', 'davidii'), 7), (('Acer', 'freemanii'), 55), (('Acer', 'ginnala'), 49), (('Acer', 'griseum'), 5), (('Acer', 'grosseri'), 3), (('Acer', 'heldreichii'), 2), (('Acer', 'hippocastanum'), 1), (('Acer', 'japonicum'), 3), (('Acer', 'monspessulanum'), 76), (('Acer', 'negundo'), 175), (('Acer', 'nikoense'), 2), (('Acer', 'opalus'), 1), (('Acer', 'palmatum'), 2), (('Acer', 'platanoides'), 1097), (('Acer', 'pseudoplatanus'), 1304), (('Acer', 'rubrum'), 22), (('Acer', 'saccharinum'), 493), (('Acer', 'tartarica'), 2), (('Acer', 'triflorum'), 2), (('Acer', 'utilis'), 1), (('Acer', 'zoeschense'), 1), (('Aesculus', 'carnea'), 18), (('Aesculus', 'chandelle seche'), 2), (('Aesculus', 'hippocastanum'), 425), (('Aesculus', 'parviflora'), 2), (('Aesculus', 'pavia'), 3), (('Ailanthus', 'altissima'), 79), (('Alnus', 'cordata'), 526), (('Alnus', 'glutinosa'), 178), (('Alnus', 'incana'), 13), (('Alnus', 'spaethii'), 76), (('Amélanchier', 'alnifolia'), 3), (('Amélanchier', 'canadensis'), 72), (('Amélanchier', 'grandiflora'), 1), (('Amélanchier', 'laevis'), 1), (('Amélanchier', 'lamarckii'), 14), (('Amélanchier', 'ovalis'), 8), (('Araucaria', 'araucana'), 1), (('Araucaria', 'exelsa'), 1), (('Betula', 'alba'), 86), (('Betula', 'nigra'), 34), (('Betula', 'papyrifera'), 23), (('Betula', 'pendula'), 17), (('Betula', 'utilis'), 366), (('Betula', 'verrucosa'), 682), (('Broussonetia', 'papyrifera'), 23), (('Buxus', 'sempervirens'), 15), (('Calocedrus', 'decurrens'), 2), (('Carpinus', 'betulus'), 1311), (('Carpinus', 'orientalis'), 14), (('Castanea', 'sativa'), 1), (('Catalpa', 'bignonoides'), 126), (('Cedrela', 'sinensis'), 45), (('Cedrus', 'atlantica'), 312), (('Cedrus', 'deodara'), 77), (('Cedrus', 'libani'), 9), (('Cedrus', 'sinensis'), 1), (('Celtis', 'australis'), 132), (('Celtis', 'julianae'), 1), (('Celtis', 'occidentalis'), 8), (('Celtis', 'sinensis'), 45), (('Cephalotaxus', 'harringtonia'), 3), (('Cercidiphyllum', 'japonicum'), 6), (('Cercidiphyllum', 'magnificum'), 1), (('Cercis', 'canadensis'), 2), (('Cercis', 'chinensis'), 4), (('Cercis', 'siliquastrum'), 318), (('Cercis', 'sinensis'), 1), (('Chamaecyparis', 'formosensis'), 1), (('Chamaecyparis', 'lawsoniana'), 362), (('Chamaecyparis', 'nootkatensis'), 2), (('Chamaecyparis', 'pisifera'), 1), (('Chimonanthus', 'praecox'), 3), (('Chionanthus', 'retusus'), 38), (('Chionanthus', 'virginicus'), 5), (('Chitalpa', 'tashkentensis'), 7), (('Cladastris', 'lutea'), 44), (('Clerodendron', 'tricotonum'), 5), (('Cornus', 'controversa'), 7), (('Cornus', 'florida'), 6), (('Cornus', 'mas'), 10), (('Corylus', 'avellana'), 24), (('Corylus', 'colurna'), 149), (('Cotinus', 'coggygria'), 11), (('Crataegus', 'crus-galli'), 2), (('Crataegus', 'laevigata'), 14), (('Crataegus', 'lavallei'), 4), (('Crataegus', 'monogyna'), 17), (('Crataegus', 'oxyacantha'), 42), (('Crataegus', 'splendens'), 1), (('Cryptomeria', 'japonica'), 2), (('Cupressocyparis', 'leylandii'), 98), (('Cupressus', 'arizonica'), 58), (('Cupressus', 'nootkatensis'), 3), (('Cupressus', 'sempervirens'), 139), (('Cydonia', 'oblonga'), 13), (('Cydonia', 'vulgaris'), 1), (('Davidia', 'involucrata'), 7), (('Diospyros', 'kaki'), 5), (('Diospyros', 'lotus'), 8), (('Diospyros', 'virginiana'), 6), (('Eleagnus', 'angustifolia'), 16), (('Eriobotrya ', 'japonica'), 3), (('Eucalyptus', 'gunii'), 1), (('Fagus', 'sylvatica'), 265), (('Ficus', 'carica'), 19), (('Fontanesia', 'phillyreoides'), 4), (('Fraxinus', 'americana'), 111), (('Fraxinus', 'angustifolia'), 161), (('Fraxinus', 'excelsior'), 771), (('Fraxinus', 'mandshurica'), 18), (('Fraxinus', 'mariesii'), 7), (('Fraxinus', 'ornus'), 113), (('Fraxinus', 'oxycarpa'), 125), (('Fraxinus', 'pennsylvanica'), 24), (('Fraxinus', 'quadrangulata'), 1), (('Fraxinus', 'sieboldiana'), 11), (('Fraxinus', 'velutina'), 58), (('Ginkgo', 'biloba'), 111), (('Gleditsia', 'triacanthos'), 345), (('Gymnocladus', 'dioicus'), 8), (('Halesia', 'carolina'), 9), (('Halesia', 'monticola'), 1), (('Hovenia', 'dulcis'), 2), (('Ilex', 'aquifolium'), 26), (('Juglans', 'nigra'), 36), (('Juglans', 'regia'), 31), (('Juniperus', 'drupacea'), 1), (('Juniperus', 'virginiana'), 1), (('Koelreuteria', 'paniculata'), 266), (('Laburnum', 'anagyroides'), 11), (('Laburnum', 'watereri'), 1), (('Lagerstroemia', 'indica'), 52), (('Larix', 'decidua'), 5), (('Libocedrus', 'decurrens'), 47), (('Ligustrum', 'ibota'), 3), (('Ligustrum', 'japonicum'), 2), (('Ligustrum', 'sinense'), 3), (('Liquidambar', 'orientalis'), 2), (('Liquidambar', 'styraciflua'), 794), (('Liquidambar', 'tulipifera'), 1), (('Liriodendron', 'tulipifera'), 507), (('Lonicera', 'fragmantissima'), 3), (('Maclura', 'pomifera'), 5), (('Magnolia', 'grandiflora'), 321), (('Magnolia', 'heptapeta'), 1), (('Magnolia', 'hybride'), 3), (('Magnolia', 'kobus'), 19), (('Magnolia', 'liliflora'), 1), (('Magnolia', 'serrulata'), 1), (('Magnolia', 'soulangeana'), 41), (('Magnolia', 'stellata'), 2), (('Malus', 'baccata'), 9), (('Malus', 'domestica'), 70), (('Malus', 'floribunda'), 131), (('Malus', 'hupehensis'), 3), (('Malus', 'perpetu'), 28), (('Malus', 'pumila'), 2), (('Malus', 'royalty'), 1), (('Malus', 'sieboldii'), 12), (('Malus', 'tschonoskii'), 13), (('Mespilus', 'germanica'), 7), (('Metasequoia', 'glyptostroboides'), 81), (('Morus', 'alba'), 24), (('Morus', 'bombycis'), 25), (('Morus', 'nigra'), 36), (('Nyssa', 'sylvatica'), 1), (('Olea', 'europaea'), 5), (('Ostrya', 'carpinifolia'), 43), (('Parrotia', 'persica'), 54), (('Paulownia', 'fortunei'), 23), (('Paulownia', 'tomentosa'), 80), (('Phellodendron', 'amurense'), 13), (('Phillyrea', 'latifolia'), 3), (('Photinia', 'villosa'), 10), (('Picea', 'abies'), 192), (('Picea', 'engelmanii'), 1), (('Picea', 'exelsa'), 4), (('Picea', 'omorika'), 4), (('Picea', 'orientalis'), 17), (('Picea', 'pungens'), 12), (('Pinus', 'mugo'), 1), (('Pinus', 'nigra'), 1276), (('Pinus', 'pinea'), 2), (('Pinus', 'strobus'), 1), (('Pinus', 'sylvestris'), 556), (('Pinus', 'wallichiana'), 18), (('Pistacia', 'chinensis'), 7), (('Platanus', 'acerifolia'), 4371), (('Platanus', 'orientalis'), 88), (('Platanus', 'platanor'), 83), (('Populus', 'alba'), 111), (('Populus', 'italica'), 6), (('Populus', 'nigra'), 483), (('Populus', 'robusta'), 199), (('Populus', 'simonii'), 7), (('Populus', 'tremula'), 17), (('Prunus', 'accolade'), 2), (('Prunus', 'amygdalus'), 3), (('Prunus', 'armeniaca'), 2), (('Prunus', 'avium'), 152), (('Prunus', 'campanulata'), 2), (('Prunus', 'cerasifera'), 102), (('Prunus', 'cerasus'), 28), (('Prunus', 'domestica'), 25), (('Prunus', 'dulcis'), 6), (('Prunus', 'incisa'), 1), (('Prunus', 'laurocerasus'), 9), (('Prunus', 'lusitanica'), 6), (('Prunus', 'mahaleb'), 1), (('Prunus', 'padus'), 90), (('Prunus', 'persica'), 7), (('Prunus', 'schmittii'), 8), (('Prunus', 'serotina'), 2), (('Prunus', 'serrulata'), 416), (('Prunus', 'spinosa'), 31), (('Prunus', 'subhirtella'), 21), (('Prunus', 'tomentosa'), 1), (('Prunus', 'yedoensis'), 12), (('Ptelea', 'trifoliata'), 3), (('Pterocarya', 'fraxinifolia'), 45), (('Pterocarya', 'stenoptera'), 6), (('Pteroceltis', 'tatarinowii'), 12), (('Pterostyrax', 'hispida'), 6), (('Punica', 'granatum'), 3), (('Pyrus', 'amygdaliformis'), 10), (('Pyrus', 'calleryana'), 438), (('Pyrus', 'communis'), 40), (('Pyrus', 'elaeagnifolia'), 1), (('Pyrus', 'nivalis'), 11), (('Quercus', 'acutissima'), 6), (('Quercus', 'castaneifolia'), 62), (('Quercus', 'cerris'), 222), (('Quercus', 'coccinea'), 1), (('Quercus', 'falcata'), 2), (('Quercus', 'frainetto'), 31), (('Quercus', 'fraxinifolia'), 1), (('Quercus', 'heterophylla'), 1), (('Quercus', 'hispanica'), 1), (('Quercus', 'ilex'), 18), (('Quercus', 'macrocarpa'), 1), (('Quercus', 'myrsinifolia'), 4), (('Quercus', 'palustris'), 19), (('Quercus', 'petraea'), 100), (('Quercus', 'phellos'), 1), (('Quercus', 'robur'), 94), (('Quercus', 'rubra'), 25), (('Quercus', 'suber'), 17), (('Quercus', 'variabilis'), 3), (('Rhamnus', 'alaternus'), 1), (('Rhus', 'thyphina'), 1), (('Rhus', 'typhina'), 6), (('Robinia', 'platanoides'), 1), (('Robinia', 'pseudoacacia'), 274), (('Salix', 'alba'), 41), (('Salix', 'babylonica'), 7), (('Salix', 'caprea'), 4), (('Salix', 'matsudana'), 5), (('Salix', 'purpurea'), 5), (('Salix', 'rosmarinifolia'), 2), (('Salix', 'sepulcralis'), 3), (('Salix', 'triandra'), 5), (('Salix', 'viminalis'), 17), (('Sambucus', 'nigra'), 33), (('Sciadopitys', 'verticillata'), 1), (('Sequoia', 'sempervirens'), 1), (('Sequoiadendron', 'giganteum'), 8), (('Sequoiadendron', 'sempervirens'), 6), (('Sophora', 'japonica'), 419), (('Sorbopyrus', 'auricularis'), 1), (('Sorbus', 'aria'), 43), (('Sorbus', 'aucuparia'), 4), (('Sorbus', 'chamaemespilus'), 1), (('Sorbus', 'cuspidata'), 3), (('Sorbus', 'domestica'), 4), (('Sorbus', 'latifolia'), 3), (('Sorbus', 'torminalis'), 15), (('Staphylea', 'bumalda'), 1), (('Styrax', 'japonica'), 3), (('Syringa', 'amurensis'), 8), (('Syringa', 'persica'), 2), (('Syringa', 'vulgaris'), 31), (('Taxodium', 'distychum'), 9), (('Taxus', 'baccata'), 200), (('Tetradium', 'daniellii'), 85), (('Thuja', 'occidentalis'), 6), (('Thuja', 'plicata'), 18), (('Tilia', 'americana'), 87), (('Tilia', 'cordata'), 254), (('Tilia', 'euchlora'), 2), (('Tilia', 'europaea'), 7), (('Tilia', 'henryana'), 33), (('Tilia', 'mongolica'), 24), (('Tilia', 'platyphyllos'), 262), (('Tilia', 'tomentosa'), 986), (('Trachycarpus', 'fortunei'), 22), (('Ulmus', 'campestre'), 16), (('Ulmus', 'carpinifolia'), 2), (('Ulmus', 'glabra'), 11), (('Ulmus', 'minor'), 144), (('Ulmus', 'parvifolia'), 1), (('Ulmus', 'resista'), 24), (('Zelkova', 'crenata'), 2), (('Zelkova', 'serrata'), 230)]\n"
     ]
    }
   ],
   "source": [
    "import csv\n",
    "from collections import Counter\n",
    "\n",
    "with open(\"/home/campus-3/Desktop/Projet_arbre/Data/arbres.csv\") as csvfile:\n",
    "    line_reader = csv.reader(csvfile)\n",
    "    list_espece3 = []\n",
    "    for row in list_espece:\n",
    "        if row != \"\":\n",
    "            list_espece3.append(row)\n",
    "    d_espece = Counter(list_espece3)\n",
    "    l_espece = [(k, v) for k, v in d_espece.items()]\n",
    "    print(l_espece)"
   ]
  },
  {
   "cell_type": "code",
   "execution_count": 56,
   "metadata": {},
   "outputs": [
    {
     "name": "stdout",
     "output_type": "stream",
     "text": [
      "(('Platanus', 'acerifolia'), 4371) (('Carpinus', 'betulus'), 1311)\n"
     ]
    }
   ],
   "source": [
    "from operator import itemgetter, attrgetter\n",
    "l_espece = sorted(l_espece, key=itemgetter(1), reverse = True)\n",
    "print(l_espece[0], l_espece[1])"
   ]
  },
  {
   "cell_type": "code",
   "execution_count": 57,
   "metadata": {},
   "outputs": [
    {
     "name": "stdout",
     "output_type": "stream",
     "text": [
      "acerifolia : 15.285889141458298 betulus : 4.584717607973422\n",
      "Les objectifs de la Metro ne sont pas respectés !\n"
     ]
    }
   ],
   "source": [
    "acerifolia = int(l_espece[0][1])\n",
    "betulus = int(l_espece[1][1])\n",
    "i_2 = 0\n",
    "somme_2 = 0\n",
    "for row in l_espece:\n",
    "    somme_2 = somme_2 + int(l_espece[i_2][1])\n",
    "    i_2 = i_2 + 1\n",
    "Propacerifolia = (acerifolia/somme_2)*100\n",
    "Propbetulus = (betulus/somme_2)*100\n",
    "print(\"acerifolia :\", Propacerifolia, \"betulus :\", Propbetulus)\n",
    "if Propacerifolia < 10 and Propbetulus < 10:\n",
    "    print(\"Les objectifs de la Metro sont respectés !\")\n",
    "else:\n",
    "    print(\"Les objectifs de la Metro ne sont pas respectés !\")"
   ]
  },
  {
   "cell_type": "code",
   "execution_count": 58,
   "metadata": {},
   "outputs": [
    {
     "name": "stdout",
     "output_type": "stream",
     "text": [
      "[(('Abies', 'koreana'), 1), (('Acer', 'hippocastanum'), 1), (('Acer', 'opalus'), 1), (('Acer', 'utilis'), 1), (('Acer', 'zoeschense'), 1), (('Amélanchier', 'grandiflora'), 1), (('Amélanchier', 'laevis'), 1), (('Araucaria', 'araucana'), 1), (('Araucaria', 'exelsa'), 1), (('Castanea', 'sativa'), 1), (('Cedrus', 'sinensis'), 1), (('Celtis', 'julianae'), 1), (('Cercidiphyllum', 'magnificum'), 1), (('Cercis', 'sinensis'), 1), (('Chamaecyparis', 'formosensis'), 1), (('Chamaecyparis', 'pisifera'), 1), (('Crataegus', 'splendens'), 1), (('Cydonia', 'vulgaris'), 1), (('Eucalyptus', 'gunii'), 1), (('Fraxinus', 'quadrangulata'), 1), (('Halesia', 'monticola'), 1), (('Juniperus', 'drupacea'), 1), (('Juniperus', 'virginiana'), 1), (('Laburnum', 'watereri'), 1), (('Liquidambar', 'tulipifera'), 1), (('Magnolia', 'heptapeta'), 1), (('Magnolia', 'liliflora'), 1), (('Magnolia', 'serrulata'), 1), (('Malus', 'royalty'), 1), (('Nyssa', 'sylvatica'), 1), (('Picea', 'engelmanii'), 1), (('Pinus', 'mugo'), 1), (('Pinus', 'strobus'), 1), (('Prunus', 'incisa'), 1), (('Prunus', 'mahaleb'), 1), (('Prunus', 'tomentosa'), 1), (('Pyrus', 'elaeagnifolia'), 1), (('Quercus', 'coccinea'), 1), (('Quercus', 'fraxinifolia'), 1), (('Quercus', 'heterophylla'), 1), (('Quercus', 'hispanica'), 1), (('Quercus', 'macrocarpa'), 1), (('Quercus', 'phellos'), 1), (('Rhamnus', 'alaternus'), 1), (('Rhus', 'thyphina'), 1), (('Robinia', 'platanoides'), 1), (('Sciadopitys', 'verticillata'), 1), (('Sequoia', 'sempervirens'), 1), (('Sorbopyrus', 'auricularis'), 1), (('Sorbus', 'chamaemespilus'), 1), (('Staphylea', 'bumalda'), 1), (('Ulmus', 'parvifolia'), 1)]\n"
     ]
    }
   ],
   "source": [
    "unique_2 = []\n",
    "j_2 = 0\n",
    "for row in l_espece:\n",
    "    if l_espece[j_2][1] == 1:\n",
    "        unique_2.append(row)\n",
    "    j_2 = j_2+1\n",
    "print(unique_2)"
   ]
  }
 ],
 "metadata": {
  "kernelspec": {
   "display_name": "Python 3",
   "language": "python",
   "name": "python3"
  },
  "language_info": {
   "codemirror_mode": {
    "name": "ipython",
    "version": 3
   },
   "file_extension": ".py",
   "mimetype": "text/x-python",
   "name": "python",
   "nbconvert_exporter": "python",
   "pygments_lexer": "ipython3",
   "version": "3.7.4"
  }
 },
 "nbformat": 4,
 "nbformat_minor": 2
}
